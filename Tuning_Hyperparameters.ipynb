{
 "cells": [
  {
   "attachments": {},
   "cell_type": "markdown",
   "id": "f581e978",
   "metadata": {},
   "source": [
    "# 1. Start Simple: Train a Baseline Model Without Any Tuning"
   ]
  },
  {
   "cell_type": "code",
   "execution_count": 1,
   "id": "d9af4ad8",
   "metadata": {},
   "outputs": [
    {
     "name": "stdout",
     "output_type": "stream",
     "text": [
      "Baseline Accuracy: 0.93\n"
     ]
    }
   ],
   "source": [
    "from sklearn.tree import DecisionTreeClassifier\n",
    "from sklearn.metrics import accuracy_score\n",
    "from sklearn.model_selection import train_test_split\n",
    "from sklearn.datasets import load_iris\n",
    "\n",
    "# Load data\n",
    "data = load_iris()\n",
    "X_train, X_test, y_train, y_test = train_test_split(data.data, data.target, test_size=0.2, random_state=25)\n",
    "\n",
    "# Initialize model with default parameters\n",
    "model = DecisionTreeClassifier()\n",
    "\n",
    "# Train model\n",
    "model.fit(X_train, y_train)\n",
    "\n",
    "# Predict and evaluate\n",
    "y_pred = model.predict(X_test)\n",
    "baseline_accuracy = accuracy_score(y_test, y_pred)\n",
    "print(f'Baseline Accuracy: {baseline_accuracy:.2f}')"
   ]
  },
  {
   "cell_type": "markdown",
   "id": "bd39dae6",
   "metadata": {},
   "source": [
    "# 2. Use Hyperparameter Search with Cross-Validation"
   ]
  },
  {
   "cell_type": "markdown",
   "id": "5f6c95d1",
   "metadata": {},
   "source": [
    "### Define hyperparameter grid"
   ]
  },
  {
   "cell_type": "code",
   "execution_count": 5,
   "id": "24487b8e",
   "metadata": {},
   "outputs": [],
   "source": [
    "from sklearn.model_selection import GridSearchCV, RandomizedSearchCV\n",
    "from sklearn.tree import DecisionTreeClassifier\n",
    "from sklearn.datasets import load_iris\n",
    "\n",
    "# Load data\n",
    "data = load_iris()\n",
    "X_train, X_test, y_train, y_test = train_test_split(data.data, data.target, test_size=0.2, random_state=25)\n",
    "\n",
    "# Initialize model\n",
    "model = DecisionTreeClassifier()\n",
    "\n",
    "# Define hyperparameter grid for Grid Search\n",
    "param_grid = {\n",
    "\t'criterion': ['gini', 'entropy'],\n",
    "\t'max_depth': [None, 10, 20, 30],\n",
    "\t'min_samples_split': [2, 5, 10]\n",
    "}"
   ]
  },
  {
   "cell_type": "markdown",
   "id": "8eeebe51",
   "metadata": {},
   "source": [
    "### Use cross-validation"
   ]
  },
  {
   "cell_type": "code",
   "execution_count": 6,
   "id": "5bb6c616",
   "metadata": {},
   "outputs": [
    {
     "name": "stdout",
     "output_type": "stream",
     "text": [
      "Best Parameters (Grid Search): {'criterion': 'gini', 'max_depth': None, 'min_samples_split': 5}\n",
      "Best Cross-Validation Score (Grid Search): 0.97\n"
     ]
    }
   ],
   "source": [
    "from sklearn.model_selection import cross_val_score\n",
    "\n",
    "# Grid Search\n",
    "grid_search = GridSearchCV(model, param_grid, cv=5, scoring='accuracy')\n",
    "grid_search.fit(X_train, y_train)\n",
    "best_params_grid = grid_search.best_params_\n",
    "best_score_grid = grid_search.best_score_\n",
    "\n",
    "print(f'Best Parameters (Grid Search): {best_params_grid}')\n",
    "print(f'Best Cross-Validation Score (Grid Search): {best_score_grid:.2f}')"
   ]
  },
  {
   "cell_type": "markdown",
   "id": "d5abb9fc",
   "metadata": {},
   "source": [
    "# 3. Use Randomized Search for Initial Exploration"
   ]
  },
  {
   "cell_type": "markdown",
   "id": "d3b94aa0",
   "metadata": {},
   "source": [
    "### Define hyperparameter distribution"
   ]
  },
  {
   "cell_type": "code",
   "execution_count": 9,
   "id": "a3b5b824",
   "metadata": {},
   "outputs": [],
   "source": [
    "from sklearn.model_selection import RandomizedSearchCV\n",
    "from sklearn.tree import DecisionTreeClassifier\n",
    "from sklearn.datasets import load_iris\n",
    "import numpy as np\n",
    "\n",
    "# Load data\n",
    "data = load_iris()\n",
    "X_train, X_test, y_train, y_test = train_test_split(data.data, data.target, test_size=0.2, random_state=42)\n",
    "\n",
    "# Initialize model\n",
    "model = DecisionTreeClassifier()\n",
    "\n",
    "# Define hyperparameter distribution for Random Search\n",
    "param_dist = {\n",
    "\t'criterion': ['gini', 'entropy'],\n",
    "\t'max_depth': [None] + list(range(10, 31)),\n",
    "\t'min_samples_split': range(2, 11),\n",
    "\t'min_samples_leaf': range(1, 11)\n",
    "}"
   ]
  },
  {
   "cell_type": "markdown",
   "id": "8aef0956",
   "metadata": {},
   "source": [
    "### Set up randomized search with cross-validation"
   ]
  },
  {
   "cell_type": "code",
   "execution_count": 10,
   "id": "33d61004",
   "metadata": {},
   "outputs": [
    {
     "name": "stdout",
     "output_type": "stream",
     "text": [
      "Best Parameters (Random Search): {'min_samples_split': 8, 'min_samples_leaf': 4, 'max_depth': 11, 'criterion': 'entropy'}\n",
      "Best Cross-Validation Score (Random Search): 0.96\n"
     ]
    }
   ],
   "source": [
    "# Random Search\n",
    "random_search = RandomizedSearchCV(model, param_dist, n_iter=100, cv=5, scoring='accuracy')\n",
    "random_search.fit(X_train, y_train)\n",
    "best_params_random = random_search.best_params_\n",
    "best_score_random = random_search.best_score_\n",
    "\n",
    "print(f'Best Parameters (Random Search): {best_params_random}')\n",
    "print(f'Best Cross-Validation Score (Random Search): {best_score_random:.2f}')"
   ]
  },
  {
   "cell_type": "markdown",
   "id": "5026c6c5",
   "metadata": {},
   "source": [
    "### Evaluate the model"
   ]
  },
  {
   "cell_type": "code",
   "execution_count": 11,
   "id": "d1ac85f8",
   "metadata": {},
   "outputs": [
    {
     "name": "stdout",
     "output_type": "stream",
     "text": [
      "Final Model Accuracy: 1.00\n"
     ]
    }
   ],
   "source": [
    "best_model = DecisionTreeClassifier(**best_params_random)\n",
    "best_model.fit(X_train, y_train)\n",
    "y_pred = best_model.predict(X_test)\n",
    "final_accuracy = accuracy_score(y_test, y_pred)\n",
    "\n",
    "print(f'Final Model Accuracy: {final_accuracy:.2f}')"
   ]
  },
  {
   "cell_type": "markdown",
   "id": "196cabbf",
   "metadata": {},
   "source": [
    "# 4. Monitor Overfitting with Validation Curves"
   ]
  },
  {
   "cell_type": "markdown",
   "id": "794f6a98",
   "metadata": {},
   "source": [
    "### n_estimators"
   ]
  },
  {
   "cell_type": "code",
   "execution_count": 12,
   "id": "6c6bc653",
   "metadata": {},
   "outputs": [],
   "source": [
    "from sklearn.model_selection import validation_curve\n",
    "from sklearn.ensemble import RandomForestClassifier\n",
    "import matplotlib.pyplot as plt\n",
    "import numpy as np\n",
    "\n",
    "# Define hyperparameter range\n",
    "param_range = [10, 100, 200, 400, 800, 1000]\n",
    "\n",
    "# Calculate validation curve\n",
    "train_scores, test_scores = validation_curve(\n",
    "\tRandomForestClassifier(), X_train, y_train,\n",
    "\tparam_name=\"n_estimators\", param_range=param_range,\n",
    "\tcv=5, scoring=\"accuracy\")\n",
    "\n",
    "# Calculate mean and standard deviation\n",
    "train_mean = np.mean(train_scores, axis=1)\n",
    "train_std = np.std(train_scores, axis=1)\n",
    "test_mean = np.mean(test_scores, axis=1)\n",
    "test_std = np.std(test_scores, axis=1)"
   ]
  },
  {
   "cell_type": "markdown",
   "id": "b50b2867",
   "metadata": {},
   "source": [
    "### Plot validation curve"
   ]
  },
  {
   "cell_type": "code",
   "execution_count": 13,
   "id": "43dba059",
   "metadata": {},
   "outputs": [
    {
     "data": {
      "image/png": "[encoded data removed]",
      "text/plain": [
       "<Figure size 640x480 with 1 Axes>"
      ]
     },
     "metadata": {},
     "output_type": "display_data"
    }
   ],
   "source": [
    "# Plot validation curve\n",
    "plt.plot(param_range, train_mean, label=\"Training score\", color=\"r\")\n",
    "plt.fill_between(param_range, train_mean - train_std, train_mean + train_std, color=\"r\", alpha=0.3)\n",
    "plt.plot(param_range, test_mean, label=\"Cross-validation score\", color=\"g\")\n",
    "plt.fill_between(param_range, test_mean - test_std, test_mean + test_std, color=\"g\", alpha=0.3)\n",
    "plt.title(\"Validation Curve with Random Forest\")\n",
    "plt.xlabel(\"Number of Estimators\")\n",
    "plt.ylabel(\"Accuracy\")\n",
    "plt.legend(loc=\"best\")\n",
    "plt.show()"
   ]
  },
  {
   "cell_type": "markdown",
   "id": "d4b496f6",
   "metadata": {},
   "source": [
    "# 5. Use Bayesian Optimization for Efficient Search"
   ]
  },
  {
   "cell_type": "markdown",
   "id": "2e504de6",
   "metadata": {},
   "source": [
    "### Define the hyperparameter space"
   ]
  },
  {
   "cell_type": "code",
   "execution_count": 18,
   "id": "a2fcef5e",
   "metadata": {},
   "outputs": [],
   "source": [
    "# pip install scikit-optimize\n",
    "from skopt import BayesSearchCV\n",
    "from sklearn.tree import DecisionTreeClassifier\n",
    "from sklearn.datasets import load_iris\n",
    "from sklearn.model_selection import train_test_split\n",
    "from sklearn.metrics import accuracy_score\n",
    "\n",
    "# Load data\n",
    "data = load_iris()\n",
    "X_train, X_test, y_train, y_test = train_test_split(data.data, data.target, test_size=0.2, random_state=25)\n",
    "\n",
    "# Initialize model\n",
    "model = DecisionTreeClassifier()\n",
    "\n",
    "# Define hyperparameter space for Bayesian Optimization\n",
    "param_space = {\n",
    "\t'criterion': ['gini', 'entropy'],\n",
    "\t'max_depth': [None] + list(range(10, 31)),\n",
    "\t'min_samples_split': (2, 10),\n",
    "\t'min_samples_leaf': (1, 10)\n",
    "}"
   ]
  },
  {
   "cell_type": "markdown",
   "id": "28018c5a",
   "metadata": {},
   "source": [
    "### Set up Bayesian optimization with cross-validation"
   ]
  },
  {
   "cell_type": "code",
   "execution_count": 16,
   "id": "ce7e796e",
   "metadata": {},
   "outputs": [
    {
     "name": "stdout",
     "output_type": "stream",
     "text": [
      "Best Parameters (Bayesian Optimization): OrderedDict([('criterion', 'gini'), ('max_depth', 25), ('min_samples_leaf', 1), ('min_samples_split', 2)])\n",
      "Best Cross-Validation Score (Bayesian Optimization): 0.97\n"
     ]
    }
   ],
   "source": [
    "# Bayesian Optimization\n",
    "opt = BayesSearchCV(model, param_space, n_iter=32, cv=5, scoring='accuracy')\n",
    "opt.fit(X_train, y_train)\n",
    "best_params_bayes = opt.best_params_\n",
    "best_score_bayes = opt.best_score_\n",
    "\n",
    "print(f'Best Parameters (Bayesian Optimization): {best_params_bayes}')\n",
    "print(f'Best Cross-Validation Score (Bayesian Optimization): {best_score_bayes:.2f}')"
   ]
  },
  {
   "cell_type": "markdown",
   "id": "f4389eee",
   "metadata": {},
   "source": [
    "### Evaluate the model"
   ]
  },
  {
   "cell_type": "code",
   "execution_count": 17,
   "id": "5e4d0782",
   "metadata": {},
   "outputs": [
    {
     "name": "stdout",
     "output_type": "stream",
     "text": [
      "Final Model Accuracy: 0.93\n"
     ]
    }
   ],
   "source": [
    "best_model = DecisionTreeClassifier(**best_params_bayes)\n",
    "best_model.fit(X_train, y_train)\n",
    "y_pred = best_model.predict(X_test)\n",
    "final_accuracy = accuracy_score(y_test, y_pred)\n",
    "\n",
    "print(f'Final Model Accuracy: {final_accuracy:.2f}')"
   ]
  },
  {
   "cell_type": "code",
   "execution_count": null,
   "id": "07355e83",
   "metadata": {},
   "outputs": [],
   "source": []
  }
 ],
 "metadata": {
  "kernelspec": {
   "display_name": "Python 3 (ipykernel)",
   "language": "python",
   "name": "python3"
  },
  "language_info": {
   "codemirror_mode": {
    "name": "ipython",
    "version": 3
   },
   "file_extension": ".py",
   "mimetype": "text/x-python",
   "name": "python",
   "nbconvert_exporter": "python",
   "pygments_lexer": "ipython3",
   "version": "3.11.5"
  }
 },
 "nbformat": 4,
 "nbformat_minor": 5
}
